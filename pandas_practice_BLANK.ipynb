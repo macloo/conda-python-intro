{
 "cells": [
  {
   "cell_type": "markdown",
   "metadata": {},
   "source": [
    "# Pandas and some Census data\n",
    "\n",
    "Based on teaching materials from Lam Thuy Vo at NICAR19 to do stuff with a U.S. Census CSV file using Pandas.\n",
    "\n",
    "* [Slides](https://docs.google.com/presentation/d/1ZG-IC33qL6dOk-WfwMuiyfzLb-Th1I_XoGNFPpbq8Ps/)\n",
    "* [GitHub repo](https://github.com/lamthuyvo/python-data-nicar2019)\n",
    "* [Pandas user guide](http://pandas.pydata.org/pandas-docs/stable/user_guide/index.html)"
   ]
  },
  {
   "cell_type": "code",
   "execution_count": null,
   "metadata": {},
   "outputs": [],
   "source": [
    "# import the pandas library and give it a \"nickname,\" pd, to be used when you call a pandas function\n",
    "import pandas as pd"
   ]
  },
  {
   "cell_type": "code",
   "execution_count": null,
   "metadata": {},
   "outputs": [],
   "source": [
    "# import a CSV file's data as a Pandas dataframe\n",
    "# we assign the dataframe to the variable census_data, but some people would prefer to name it df \n",
    "census_data = pd.read_csv('2016_census_data.csv')"
   ]
  },
  {
   "cell_type": "code",
   "execution_count": null,
   "metadata": {},
   "outputs": [],
   "source": [
    "# look at first 5 rows of dataset with a function called .head()\n",
    "# be sure to scroll rightwards to see more columns\n",
    "census_data.head(5)"
   ]
  },
  {
   "cell_type": "code",
   "execution_count": null,
   "metadata": {},
   "outputs": [],
   "source": [
    "# look at last 5 rows of dataset with a function called .tail()\n",
    "# note the row numbers in the first column\n",
    "census_data.tail(5)"
   ]
  },
  {
   "cell_type": "code",
   "execution_count": null,
   "metadata": {},
   "outputs": [],
   "source": [
    "# view 5 random rows - the number can be more or less than 5, up to you\n",
    "# if you shift-enter in this cell more than once, you'll get different rows each time\n",
    "census_data.sample(5)"
   ]
  },
  {
   "cell_type": "markdown",
   "metadata": {},
   "source": [
    "What we are looking at is called a **dataframe.** What we are doing is **exploring** the dataframe to get an idea of how much data we have and what it looks like. We can also read the column headings to understand what data we have."
   ]
  },
  {
   "cell_type": "code",
   "execution_count": null,
   "metadata": {},
   "outputs": [],
   "source": [
    "# we can flip the data so that the column headings are in column 1 and all the rows become columns\n",
    "# it does not stay this way - we are only looking \n",
    "census_data.T"
   ]
  },
  {
   "cell_type": "code",
   "execution_count": null,
   "metadata": {},
   "outputs": [],
   "source": [
    "# see a list of all column headings \n",
    "census_data.columns"
   ]
  },
  {
   "cell_type": "code",
   "execution_count": null,
   "metadata": {},
   "outputs": [],
   "source": [
    "# see all the data types in your dataframe \n",
    "census_data.dtypes"
   ]
  },
  {
   "cell_type": "markdown",
   "metadata": {},
   "source": [
    "`object` is used for text (string), and `int64` means the data in that column is an integer. Sometimes the data is not formatted correctly, and you need to change the data type in a column. Other data types include `float64`, `bool`, and `datetime64[ns]`."
   ]
  },
  {
   "cell_type": "code",
   "execution_count": null,
   "metadata": {},
   "outputs": [],
   "source": [
    "# use normal Python len() to see how many rows, how many columns in the dataframe\n",
    "print(len(census_data))\n",
    "print(len(census_data.columns))"
   ]
  },
  {
   "cell_type": "code",
   "execution_count": null,
   "metadata": {},
   "outputs": [],
   "source": [
    "# or use a pandas command, shape, to get that info about the dataframe\n",
    "census_data.shape"
   ]
  },
  {
   "cell_type": "code",
   "execution_count": null,
   "metadata": {},
   "outputs": [],
   "source": [
    "# see first five cells in 'county' column\n",
    "census_data['county'].head(5)"
   ]
  },
  {
   "cell_type": "code",
   "execution_count": null,
   "metadata": {},
   "outputs": [],
   "source": [
    "# see ALL cells in 'county' column - but not really all - first 30 and last 30\n",
    "census_data['county']"
   ]
  },
  {
   "cell_type": "code",
   "execution_count": null,
   "metadata": {},
   "outputs": [],
   "source": [
    "# create a Python list with the names of only the columns you want to view\n",
    "column_names  = ['county', 'total_population', 'median_income',\n",
    "       'educational_attainment']\n",
    "# now view only those columns - use .sample() to get random rows\n",
    "census_data[column_names].sample(10)"
   ]
  },
  {
   "cell_type": "code",
   "execution_count": null,
   "metadata": {},
   "outputs": [],
   "source": [
    "# pandas assigns each row a number as an index automatically\n",
    "# we could assign each row a different index, but not necessary\n",
    "# if I know I want to look at only the data in the row with index 350 - \n",
    "census_data.iloc[350]"
   ]
  },
  {
   "cell_type": "markdown",
   "metadata": {},
   "source": [
    "It's called \"integer-location based indexing,\" so that's why the function is named `iloc`. [Learn more here.](https://www.shanelynn.ie/select-pandas-dataframe-rows-and-columns-using-iloc-loc-and-ix/) "
   ]
  },
  {
   "cell_type": "code",
   "execution_count": null,
   "metadata": {},
   "outputs": [],
   "source": [
    "# combining .iloc[] and column-name search\n",
    "census_data['name'].iloc[350]"
   ]
  },
  {
   "cell_type": "code",
   "execution_count": null,
   "metadata": {},
   "outputs": [],
   "source": [
    "# or using that list from before and a different index number\n",
    "census_data[column_names].iloc[4]"
   ]
  },
  {
   "cell_type": "code",
   "execution_count": null,
   "metadata": {},
   "outputs": [],
   "source": [
    "# do math things on ONE column only\n",
    "# note - if we don't PRINT these, we'll see only the last one \n",
    "print(census_data['black_alone'].mean())\n",
    "print(census_data['black_alone'].median())\n",
    "print(census_data['black_alone'].sum())"
   ]
  },
  {
   "cell_type": "markdown",
   "metadata": {},
   "source": [
    "What we got from the previous cell was the mean, median, and sum (total) of ALL values in the entire column named \"black_alone\" - for all 4,700 rows! "
   ]
  },
  {
   "cell_type": "code",
   "execution_count": null,
   "metadata": {
    "scrolled": true
   },
   "outputs": [],
   "source": [
    "census_data['black_alone'].describe()"
   ]
  },
  {
   "cell_type": "markdown",
   "metadata": {},
   "source": [
    "The meaning of each line in the previous result is explained [here](https://pandas.pydata.org/pandas-docs/stable/reference/api/pandas.DataFrame.describe.html). `count` is how many rows were analyzed (4,700). `mean` is the same as the cell before, where we got mean, median, and sum. `mean` is the same as \"average.\" `std` is the [standard deviation](https://www.robertniles.com/stats/stdev.shtml). `min` is the lowest value in the column - here, 0 means that some Census tracts have zero black residents. The three percentiles show us what proportion of rows contain a value equal to or less than that number - so 25% of the Census tracts have 47 or fewer black residents. Finally, `max` tells us the highest value in this column."
   ]
  },
  {
   "cell_type": "code",
   "execution_count": null,
   "metadata": {},
   "outputs": [],
   "source": [
    "# we can assign an entire column to a variable, and then use that variable to make comparisons\n",
    "asian_population = census_data['asian']\n",
    "asian_population.describe()"
   ]
  },
  {
   "cell_type": "code",
   "execution_count": null,
   "metadata": {},
   "outputs": [],
   "source": [
    "# now we assign a different column to a different variable\n",
    "black_population = census_data['black_alone']"
   ]
  },
  {
   "cell_type": "code",
   "execution_count": null,
   "metadata": {},
   "outputs": [],
   "source": [
    "# compare the means of the two columns\n",
    "# python greater than\n",
    "black_population.mean() > asian_population.mean()"
   ]
  },
  {
   "cell_type": "code",
   "execution_count": null,
   "metadata": {},
   "outputs": [],
   "source": [
    "# reverse\n",
    "asian_population.mean() > black_population.mean()"
   ]
  },
  {
   "cell_type": "code",
   "execution_count": null,
   "metadata": {},
   "outputs": [],
   "source": [
    "# show unique values in a given column\n",
    "census_data.county.unique()"
   ]
  },
  {
   "cell_type": "markdown",
   "metadata": {},
   "source": [
    "Remember that each of these counties has MANY Census tracts, so the county names appear many times in the `county` column. The previous cell lets us see how many counties are in the dataframe, with no duplications."
   ]
  },
  {
   "cell_type": "code",
   "execution_count": null,
   "metadata": {},
   "outputs": [],
   "source": [
    "# sort them alphabetically and print one per line \n",
    "for county in sorted(census_data.county.unique()):\n",
    "    print(county)"
   ]
  },
  {
   "cell_type": "code",
   "execution_count": null,
   "metadata": {},
   "outputs": [],
   "source": [
    "# find rows where a string matches the value in given column\n",
    "# we want to find out how many rows are for Pike County\n",
    "pike = census_data.loc[(census_data['county'] == 'Pike County')]\n",
    "# count how many Pike County rows\n",
    "len(pike)"
   ]
  },
  {
   "cell_type": "markdown",
   "metadata": {},
   "source": [
    "You can see from previous results that there are definitely cells containing the string \"Pike County\" - so why does `len()` come back with 0? It means that there is no match, and that means there must be some **invisible characters** in the string - such as spaces, line endings, or tabs. Python has a method for striping those characters off the start or end of a string."
   ]
  },
  {
   "cell_type": "code",
   "execution_count": null,
   "metadata": {},
   "outputs": [],
   "source": [
    "# data in this column is dirty, so we strip spaces and invisible characters with .str.strip(' \\t\\n\\r') \n",
    "pike = census_data.loc[(census_data['county'].str.strip(' \\t\\n\\r') == 'Pike County')]\n",
    "# count how many Pike County rows\n",
    "len(pike)"
   ]
  },
  {
   "cell_type": "markdown",
   "metadata": {},
   "source": [
    "That's better. And now that we realize the county cells contain \"dirty data,\" we might want to simply clean all of them up at once. It's best to preserve the original column (for safety) and create a new column that has the clean data in it."
   ]
  },
  {
   "cell_type": "code",
   "execution_count": null,
   "metadata": {},
   "outputs": [],
   "source": [
    "# to create a new column with clean county names - \n",
    "# 'county_clean' is the NEW column \n",
    "census_data['county_clean'] = census_data['county'].str.strip(' \\t\\n\\r')"
   ]
  },
  {
   "cell_type": "code",
   "execution_count": null,
   "metadata": {},
   "outputs": [],
   "source": [
    "# create a Python list with just the columns you want\n",
    "column_names  = ['name', 'county', 'state', 'total_population', 'median_income', 'median_home_value']\n",
    "\n",
    "# using the pike variable from a previous cell - \n",
    "# sort the rows with highest median_home_value at top, lowest at bottom\n",
    "pike[column_names].sort_values('median_home_value', ascending=False)"
   ]
  },
  {
   "cell_type": "markdown",
   "metadata": {},
   "source": [
    "In the output above, notice the **total population** for the tract with highest median home value."
   ]
  },
  {
   "cell_type": "code",
   "execution_count": null,
   "metadata": {},
   "outputs": [],
   "source": [
    "# if I want to use my new 'county_clean' column instead -\n",
    "column_names  = ['county_clean', 'total_population', 'median_income', 'median_home_value', 'name']\n",
    "\n",
    "# note, I changed the column order in that list!! \n",
    "passaic = census_data.loc[(census_data['county_clean'] == 'Passaic County')]\n",
    "passaic[column_names].sort_values('median_home_value', ascending=False)"
   ]
  },
  {
   "cell_type": "markdown",
   "metadata": {},
   "source": [
    "**Note** how you can display the columns in ANY ORDER you desire. Just make a new list for `column_names` and use that to show the data. Include only the columns you want to see, in the order you want.\n",
    "\n",
    "But wait, there's more! What if you want to save that data in that exact format - maybe to send it to someone else."
   ]
  },
  {
   "cell_type": "code",
   "execution_count": null,
   "metadata": {},
   "outputs": [],
   "source": [
    "# save that to a NEW CSV file with a new filename\n",
    "new_dataset = passaic[column_names].sort_values('median_home_value', ascending=False)\n",
    "new_dataset.to_csv('passaic_only.csv', encoding='utf8')"
   ]
  },
  {
   "cell_type": "markdown",
   "metadata": {},
   "source": [
    "THAT is seriously powerful. You just extracted **100 rows** from a 4,700-row CSV, threw out 10 of the 16 columns, and put the columns into a different order. Your original CSV remains untouched and intact. You created a new CSV file that you could share with others who do not have Jupyter Notebooks.\n",
    "\n",
    "In case you're not sure what directory the new file was saved to, enter `pwd` to find out which directory this Jupyter Notebook is running in. (`pwd` is a command that stands for \"print working directory.)"
   ]
  },
  {
   "cell_type": "code",
   "execution_count": null,
   "metadata": {},
   "outputs": [],
   "source": [
    "pwd"
   ]
  },
  {
   "cell_type": "markdown",
   "metadata": {},
   "source": [
    "The output from the previous cell shows you where to find the file *passaic_only.csv* on your computer."
   ]
  },
  {
   "cell_type": "code",
   "execution_count": null,
   "metadata": {},
   "outputs": [],
   "source": [
    "# how many rows (Census tracts) does each county have, anyway? \n",
    "census_data['county_clean'].value_counts()"
   ]
  },
  {
   "cell_type": "markdown",
   "metadata": {},
   "source": [
    "**Note** that the list (in the output from the previous cell) is in order from most rows to fewest rows. You can see which counties have a large number of Census tracts in this dataset (which might not be complete for some counties)."
   ]
  },
  {
   "cell_type": "code",
   "execution_count": null,
   "metadata": {},
   "outputs": [],
   "source": []
  }
 ],
 "metadata": {
  "kernelspec": {
   "display_name": "Python 3",
   "language": "python",
   "name": "python3"
  },
  "language_info": {
   "codemirror_mode": {
    "name": "ipython",
    "version": 3
   },
   "file_extension": ".py",
   "mimetype": "text/x-python",
   "name": "python",
   "nbconvert_exporter": "python",
   "pygments_lexer": "ipython3",
   "version": "3.7.3"
  }
 },
 "nbformat": 4,
 "nbformat_minor": 2
}
