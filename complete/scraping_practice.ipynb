{
 "cells": [
  {
   "cell_type": "markdown",
   "metadata": {},
   "source": [
    "# A first web scraping exercise\n",
    "\n",
    "We're going to scrape a bunch of separate lists from one Wikipedia page. Wikipedia is a good place to practice scraping because the HTML there is well formatted, and the site's traffic is so high, they don't mind us hitting one page again and again. \n",
    "\n",
    "First we import two libraries: [BeautifulSoup](https://www.crummy.com/software/BeautifulSoup/bs4/doc/) is for scraping, and [Requests](http://docs.python-requests.org/en/master/user/quickstart/) is for making the HTTP request to the server where we want to scrape.\n",
    "\n",
    "**If you have not yet installed these two libraries** into the virtual environment where you are running this Notebook, you'll need to do that *first.*"
   ]
  },
  {
   "cell_type": "code",
   "execution_count": 1,
   "metadata": {},
   "outputs": [],
   "source": [
    "from bs4 import BeautifulSoup\n",
    "import requests"
   ]
  },
  {
   "cell_type": "markdown",
   "metadata": {},
   "source": [
    "Most scraping scripts begin with one page, which means one URL, to be scraped. In the three lines below, the only thing that changes if you scrape a different page, even at another website, is the URL inside the single quotaton marks."
   ]
  },
  {
   "cell_type": "code",
   "execution_count": 2,
   "metadata": {},
   "outputs": [],
   "source": [
    "url = 'https://en.wikipedia.org/wiki/List_of_colleges_and_universities_in_Florida'\n",
    "html = requests.get(url)\n",
    "soup = BeautifulSoup(html.text, 'html.parser')"
   ]
  },
  {
   "cell_type": "markdown",
   "metadata": {},
   "source": [
    "As a result of those three lines above, we now have a BeautifulSoup \"object\" named `soup`, and it contains **all the HTML** from the file at the URL we gave. THe HTML is stored in a manner that allows the BeautifulSoup functions to search and use the data.\n",
    "\n",
    "Our goal is to scrape **all the lists** of colleges from that one Wikipedia page and put them in a CSV file, with separate columns for college name, location, type of college, and the URL for that college's Wikipedia page.\n",
    "\n",
    "We start by using Chrome Dev Tools' \"Inspect\": right-click on the heading \"State University System\" and select \"Inspect\" from the pop-up menu.\n",
    "\n",
    "If we inspect the heading above each of the lists of colleges and schools, we find that all of those headings are H3 headings. "
   ]
  },
  {
   "cell_type": "code",
   "execution_count": 3,
   "metadata": {},
   "outputs": [],
   "source": [
    "# start by collecting all the H3 elements on the page into a Python list\n",
    "h3_list = soup.find_all('h3')"
   ]
  },
  {
   "cell_type": "code",
   "execution_count": 4,
   "metadata": {},
   "outputs": [
    {
     "name": "stdout",
     "output_type": "stream",
     "text": [
      "[<h3><span class=\"mw-headline\" id=\"State_University_System\">State University System</span><span class=\"mw-editsection\"><span class=\"mw-editsection-bracket\">[</span><a href=\"/w/index.php?title=List_of_colleges_and_universities_in_Florida&amp;action=edit&amp;section=2\" title=\"Edit section: State University System\">edit</a><span class=\"mw-editsection-bracket\">]</span></span></h3>, <h3><span class=\"mw-headline\" id=\"Florida_College_System\">Florida College System</span><span class=\"mw-editsection\"><span class=\"mw-editsection-bracket\">[</span><a href=\"/w/index.php?title=List_of_colleges_and_universities_in_Florida&amp;action=edit&amp;section=3\" title=\"Edit section: Florida College System\">edit</a><span class=\"mw-editsection-bracket\">]</span></span></h3>, <h3><span class=\"mw-headline\" id=\"Other_public_institutions\">Other public institutions</span><span class=\"mw-editsection\"><span class=\"mw-editsection-bracket\">[</span><a href=\"/w/index.php?title=List_of_colleges_and_universities_in_Florida&amp;action=edit&amp;section=4\" title=\"Edit section: Other public institutions\">edit</a><span class=\"mw-editsection-bracket\">]</span></span></h3>, <h3><span id=\"Defunct_public_.28county.29_colleges_in_Florida\"></span><span class=\"mw-headline\" id=\"Defunct_public_(county)_colleges_in_Florida\">Defunct public (county) colleges in Florida</span><span class=\"mw-editsection\"><span class=\"mw-editsection-bracket\">[</span><a href=\"/w/index.php?title=List_of_colleges_and_universities_in_Florida&amp;action=edit&amp;section=5\" title=\"Edit section: Defunct public (county) colleges in Florida\">edit</a><span class=\"mw-editsection-bracket\">]</span></span></h3>, <h3><span class=\"mw-headline\" id=\"Religiously_affiliated_institutions\">Religiously affiliated institutions</span><span class=\"mw-editsection\"><span class=\"mw-editsection-bracket\">[</span><a href=\"/w/index.php?title=List_of_colleges_and_universities_in_Florida&amp;action=edit&amp;section=7\" title=\"Edit section: Religiously affiliated institutions\">edit</a><span class=\"mw-editsection-bracket\">]</span></span></h3>, <h3><span id=\"Trade.2Ftechnical_institutions\"></span><span class=\"mw-headline\" id=\"Trade/technical_institutions\">Trade/technical institutions</span><span class=\"mw-editsection\"><span class=\"mw-editsection-bracket\">[</span><a href=\"/w/index.php?title=List_of_colleges_and_universities_in_Florida&amp;action=edit&amp;section=8\" title=\"Edit section: Trade/technical institutions\">edit</a><span class=\"mw-editsection-bracket\">]</span></span></h3>, <h3><span class=\"mw-headline\" id=\"Other_private_institutions\">Other private institutions</span><span class=\"mw-editsection\"><span class=\"mw-editsection-bracket\">[</span><a href=\"/w/index.php?title=List_of_colleges_and_universities_in_Florida&amp;action=edit&amp;section=9\" title=\"Edit section: Other private institutions\">edit</a><span class=\"mw-editsection-bracket\">]</span></span></h3>, <h3><span class=\"mw-headline\" id=\"Segregated_junior_colleges\"><span id=\"Segregated_junior_colleges\"></span>Segregated junior colleges</span><span class=\"mw-editsection\"><span class=\"mw-editsection-bracket\">[</span><a href=\"/w/index.php?title=List_of_colleges_and_universities_in_Florida&amp;action=edit&amp;section=11\" title=\"Edit section: Segregated junior colleges\">edit</a><span class=\"mw-editsection-bracket\">]</span></span></h3>, <h3 id=\"p-personal-label\">Personal tools</h3>, <h3 id=\"p-namespaces-label\">Namespaces</h3>, <h3 id=\"p-variants-label\">\n",
      "<span>Variants</span>\n",
      "</h3>, <h3 id=\"p-views-label\">Views</h3>, <h3 id=\"p-cactions-label\"><span>More</span></h3>, <h3>\n",
      "<label for=\"searchInput\">Search</label>\n",
      "</h3>, <h3 id=\"p-navigation-label\">Navigation</h3>, <h3 id=\"p-interaction-label\">Interaction</h3>, <h3 id=\"p-tb-label\">Tools</h3>, <h3 id=\"p-coll-print_export-label\">Print/export</h3>, <h3 id=\"p-wikibase-otherprojects-label\">In other projects</h3>, <h3 id=\"p-lang-label\">Languages</h3>]\n"
     ]
    }
   ],
   "source": [
    "# we don't really NEED to print them, but we do it so we can see what we got\n",
    "print(h3_list)"
   ]
  },
  {
   "cell_type": "markdown",
   "metadata": {},
   "source": [
    "Look closely, and you'll see that all the H3 heading elements are items in a Python *list.*"
   ]
  },
  {
   "cell_type": "code",
   "execution_count": 5,
   "metadata": {},
   "outputs": [
    {
     "name": "stdout",
     "output_type": "stream",
     "text": [
      "<ul><li><a href=\"/wiki/Florida_A%26M_University\" title=\"Florida A&amp;M University\">Florida A&amp;M University</a> (<a href=\"/wiki/Tallahassee,_Florida\" title=\"Tallahassee, Florida\">Tallahassee</a>)</li>\n",
      "<li><a href=\"/wiki/Florida_Atlantic_University\" title=\"Florida Atlantic University\">Florida Atlantic University</a> (<a href=\"/wiki/Boca_Raton,_Florida\" title=\"Boca Raton, Florida\">Boca Raton</a>)</li>\n",
      "<li><a href=\"/wiki/Florida_Gulf_Coast_University\" title=\"Florida Gulf Coast University\">Florida Gulf Coast University</a> (<a href=\"/wiki/Fort_Myers,_Florida\" title=\"Fort Myers, Florida\">Fort Myers</a>)</li>\n",
      "<li><a href=\"/wiki/Florida_International_University\" title=\"Florida International University\">Florida International University</a> (<a href=\"/wiki/Miami\" title=\"Miami\">Miami</a>)</li>\n",
      "<li><a href=\"/wiki/Florida_Polytechnic_University\" title=\"Florida Polytechnic University\">Florida Polytechnic University</a> (<a href=\"/wiki/Lakeland,_Florida\" title=\"Lakeland, Florida\">Lakeland</a>)</li>\n",
      "<li><a href=\"/wiki/Florida_State_University\" title=\"Florida State University\">Florida State University</a> (<a href=\"/wiki/Tallahassee,_Florida\" title=\"Tallahassee, Florida\">Tallahassee</a>)</li>\n",
      "<li><a href=\"/wiki/New_College_of_Florida\" title=\"New College of Florida\">New College of Florida</a> (<a href=\"/wiki/Sarasota,_Florida\" title=\"Sarasota, Florida\">Sarasota</a>)</li>\n",
      "<li><a href=\"/wiki/University_of_Central_Florida\" title=\"University of Central Florida\">University of Central Florida</a> (<a href=\"/wiki/Orlando,_Florida\" title=\"Orlando, Florida\">Orlando</a>)</li>\n",
      "<li><a href=\"/wiki/University_of_Florida\" title=\"University of Florida\">University of Florida</a> (<a href=\"/wiki/Gainesville,_Florida\" title=\"Gainesville, Florida\">Gainesville</a>)</li>\n",
      "<li><a href=\"/wiki/University_of_North_Florida\" title=\"University of North Florida\">University of North Florida</a> (<a href=\"/wiki/Jacksonville,_Florida\" title=\"Jacksonville, Florida\">Jacksonville</a>)</li>\n",
      "<li><a href=\"/wiki/University_of_South_Florida\" title=\"University of South Florida\">University of South Florida</a> (<a href=\"/wiki/Tampa,_Florida\" title=\"Tampa, Florida\">Tampa</a>)</li>\n",
      "<li><a href=\"/wiki/University_of_West_Florida\" title=\"University of West Florida\">University of West Florida</a> (<a href=\"/wiki/Pensacola,_Florida\" title=\"Pensacola, Florida\">Pensacola</a>)</li></ul>\n"
     ]
    }
   ],
   "source": [
    "# the heading above the first list of schools we want is 'State University System'\n",
    "# so let's get the first UL that comes after that heading\n",
    "the_ul = \"\"\n",
    "for head in h3_list:\n",
    "    if head.span.get_text() == 'State University System':\n",
    "        the_ul = head.find_next('ul')\n",
    "        break\n",
    "print(the_ul)"
   ]
  },
  {
   "cell_type": "markdown",
   "metadata": {},
   "source": [
    "Again, printing wasn't strictly necessary, but it's good to make sure you got what you were trying to get. Otherwise, if you start getting error messages, you won't understand why. You should be able to recognize that you got the complete UL element and everything it contains. It is NOT in a list. It is one single BeautifulSoup tag object, and it's been assigned to the variable `the_ul`.\n",
    "\n",
    "Above, you began with a *list* of all H3 elements on the page. Each H3 element from a Wikipedia page contains `span` tags and text and more. (You saw this with \"Inspect.\")\n",
    "\n",
    "The next task was to *get* the complete UL element that comes after the heading we chose: \"State University System.\" So we *looped* over the list of all H3 elements, and we checked *each one* to see if the text inside its *first* `span` tag matched the string we provided.\n",
    "\n",
    "As soon as we found that exact string, we stopped, and we grabbed *the next UL element* that comes after that H3, and we assigned that entire UL element to the variable `the_ul`.\n",
    "\n",
    "`break` makes the for-loop stop looping."
   ]
  },
  {
   "cell_type": "code",
   "execution_count": 6,
   "metadata": {},
   "outputs": [
    {
     "name": "stdout",
     "output_type": "stream",
     "text": [
      "Florida A&M University Tallahassee /wiki/Florida_A%26M_University\n",
      "Florida Atlantic University Boca Raton /wiki/Florida_Atlantic_University\n",
      "Florida Gulf Coast University Fort Myers /wiki/Florida_Gulf_Coast_University\n",
      "Florida International University Miami /wiki/Florida_International_University\n",
      "Florida Polytechnic University Lakeland /wiki/Florida_Polytechnic_University\n",
      "Florida State University Tallahassee /wiki/Florida_State_University\n",
      "New College of Florida Sarasota /wiki/New_College_of_Florida\n",
      "University of Central Florida Orlando /wiki/University_of_Central_Florida\n",
      "University of Florida Gainesville /wiki/University_of_Florida\n",
      "University of North Florida Jacksonville /wiki/University_of_North_Florida\n",
      "University of South Florida Tampa /wiki/University_of_South_Florida\n",
      "University of West Florida Pensacola /wiki/University_of_West_Florida\n"
     ]
    }
   ],
   "source": [
    "# next, we want to get 3 things out of each LI element in that list: \n",
    "# college name, location, and the URL for that college's Wikipedia page \n",
    "# use Chrome Dev Tools' \"Inspect\" again to see the structure of the HTML and figure out how to use it\n",
    "\n",
    "schools = the_ul.find_all('li')\n",
    "\n",
    "for li in schools:\n",
    "    a_list = li.find_all('a')\n",
    "    college_name = a_list[0].get_text()\n",
    "    location = a_list[1].get_text()\n",
    "    url = a_list[0]['href']\n",
    "    print(college_name, location, url)\n"
   ]
  },
  {
   "cell_type": "markdown",
   "metadata": {},
   "source": [
    "Line 5 above - `schools = the_ul.find_all('li')` - makes a Python *list* of all the LI elements in the URL we selected. Once we have a list, we can *loop over it* and do things with each element, separately and individually. In this loop, `li` is the variable we made to represent each individual LI element in the list, which is named `schools`.\n",
    "\n",
    "One by one, for one LI at a time, we:\n",
    "\n",
    "* Find all the A elements in it and put them into a new list.\n",
    "* From the *first* A element, `a_list[0]`, we get the text inside the A tags and assign it to the variable `college_name`.\n",
    "* From the *second* A element, `a_list[1]`, we get the text inside the A tags and assign it to the variable `location`.\n",
    "* From the *first* A element, `a_list[0]`, we get the *value* of the `href` attribute and assign it to the variable `url`.\n",
    "* We print the three variables for each time the loop loops."
   ]
  },
  {
   "cell_type": "code",
   "execution_count": 7,
   "metadata": {},
   "outputs": [
    {
     "name": "stdout",
     "output_type": "stream",
     "text": [
      "Florida A&M University Tallahassee https://en.wikipedia.org/wiki/Florida_A%26M_University\n",
      "Florida Atlantic University Boca Raton https://en.wikipedia.org/wiki/Florida_Atlantic_University\n",
      "Florida Gulf Coast University Fort Myers https://en.wikipedia.org/wiki/Florida_Gulf_Coast_University\n",
      "Florida International University Miami https://en.wikipedia.org/wiki/Florida_International_University\n",
      "Florida Polytechnic University Lakeland https://en.wikipedia.org/wiki/Florida_Polytechnic_University\n",
      "Florida State University Tallahassee https://en.wikipedia.org/wiki/Florida_State_University\n",
      "New College of Florida Sarasota https://en.wikipedia.org/wiki/New_College_of_Florida\n",
      "University of Central Florida Orlando https://en.wikipedia.org/wiki/University_of_Central_Florida\n",
      "University of Florida Gainesville https://en.wikipedia.org/wiki/University_of_Florida\n",
      "University of North Florida Jacksonville https://en.wikipedia.org/wiki/University_of_North_Florida\n",
      "University of South Florida Tampa https://en.wikipedia.org/wiki/University_of_South_Florida\n",
      "University of West Florida Pensacola https://en.wikipedia.org/wiki/University_of_West_Florida\n"
     ]
    }
   ],
   "source": [
    "# that's only a partial URL, but it will work if we concatenate it with 'https://en.wikipedia.org'\n",
    "# let's do it over -\n",
    "for li in schools:\n",
    "    a_list = li.find_all('a')\n",
    "    college_name = a_list[0].get_text()\n",
    "    location = a_list[1].get_text()\n",
    "    url = 'https://en.wikipedia.org' + a_list[0]['href']\n",
    "    print(college_name, location, url)\n"
   ]
  },
  {
   "cell_type": "code",
   "execution_count": 8,
   "metadata": {},
   "outputs": [],
   "source": [
    "# now how can we put them into a CSV file? Python has a built-in module named csv -\n",
    "# we have to import it to use it\n",
    "\n",
    "import csv\n",
    "\n",
    "# create/open new file for writing -\n",
    "csvfile = open(\"test.csv\", 'w', newline='', encoding='utf-8')\n",
    "\n",
    "# make a new variable, c, for Python's CSV writer object -\n",
    "c = csv.writer(csvfile)\n",
    "\n",
    "# write header row to test.csv\n",
    "c.writerow( ['first', 'second', 'third', 'fourth'] )\n",
    "\n",
    "# write two more rows to test.csv\n",
    "c.writerow( ['a', 'b', 'c', 'd'] )\n",
    "c.writerow( [10, 20, 30, 40] )\n",
    "\n",
    "\n",
    "# close and save the file\n",
    "csvfile.close()\n"
   ]
  },
  {
   "cell_type": "markdown",
   "metadata": {},
   "source": [
    "You have now created a new CSV file and written three rows and four columns into it. But WHERE was it *saved*? To find out, use the `pwd` to find out which directory this Jupyter Notebook is running in. (`pwd` is a command that stands for \"print working directory.\")"
   ]
  },
  {
   "cell_type": "code",
   "execution_count": 9,
   "metadata": {},
   "outputs": [
    {
     "data": {
      "text/plain": [
       "'/Users/mcadams/Documents/python/conda_jup/conda-python-intro/complete'"
      ]
     },
     "execution_count": 9,
     "metadata": {},
     "output_type": "execute_result"
    }
   ],
   "source": [
    "pwd"
   ]
  },
  {
   "cell_type": "markdown",
   "metadata": {},
   "source": [
    "Go there now in your Finder/File Explorer and open the CSV file named *test.csv.*"
   ]
  },
  {
   "cell_type": "markdown",
   "metadata": {},
   "source": [
    "Now you know how to write a new CSV file. Can you figure out how to take the earlier code from above - the for-loop that PRINTS a list of schools - and make it WRITE to a row in the CSV *instead* of printing?\n",
    "\n",
    "Because that's all you need to do."
   ]
  },
  {
   "cell_type": "code",
   "execution_count": 10,
   "metadata": {},
   "outputs": [],
   "source": [
    "# create/open new file for writing -\n",
    "csvfile = open(\"state_university_system.csv\", 'w', newline='', encoding='utf-8')\n",
    "\n",
    "# make a new variable, c, for Python's CSV writer object -\n",
    "c = csv.writer(csvfile)\n",
    "\n",
    "# write header row to the csv\n",
    "c.writerow( ['school', 'location', 'url'] )\n",
    "\n",
    "# the code from above that loops over all the schools in the list of LI elements\n",
    "for li in schools:\n",
    "    a_list = li.find_all('a')\n",
    "    college_name = a_list[0].get_text()\n",
    "    location = a_list[1].get_text()\n",
    "    url = 'https://en.wikipedia.org' + a_list[0]['href']\n",
    "    c.writerow( [college_name, location, url] )\n",
    "\n",
    "# close and save the file\n",
    "csvfile.close()\n"
   ]
  },
  {
   "cell_type": "markdown",
   "metadata": {},
   "source": [
    "Open your new CSV, named *state_university_system.csv,* and take a look at the rows and columns.\n",
    "\n",
    "An **important point** to understand about the new line in the code above - `c.writerow( [college_name, location, url] )` - is that the square brackets *inside* the parentheses are **expected** by the csv module's code. It expects to receive a Python list (which is like an array in JavaScript), and if it doesn't, the CSV file will not be written correctly.\n",
    "\n",
    "So any time you WRITE a ROW to a CSV file here, you must write a *list* and NOT just variables separated by commas (which will not work)."
   ]
  },
  {
   "cell_type": "markdown",
   "metadata": {},
   "source": [
    "## We said we would get all the schools from all the lists, and we will\n",
    "\n",
    "What we've done is nice, but it will be even nicer when we get all the lists of schools that are still in operation (we will skip the closed schools). And we already have almost all the Python and BeautifulSoup code we need to get the job done.\n",
    "\n",
    "If we are short on time for this demonstration, we will stop here.\n",
    "\n",
    "Recall that we got a list of all the H3 headings. It's in the variable `h3_list`."
   ]
  },
  {
   "cell_type": "code",
   "execution_count": 11,
   "metadata": {},
   "outputs": [
    {
     "name": "stdout",
     "output_type": "stream",
     "text": [
      "[<h3><span class=\"mw-headline\" id=\"State_University_System\">State University System</span><span class=\"mw-editsection\"><span class=\"mw-editsection-bracket\">[</span><a href=\"/w/index.php?title=List_of_colleges_and_universities_in_Florida&amp;action=edit&amp;section=2\" title=\"Edit section: State University System\">edit</a><span class=\"mw-editsection-bracket\">]</span></span></h3>, <h3><span class=\"mw-headline\" id=\"Florida_College_System\">Florida College System</span><span class=\"mw-editsection\"><span class=\"mw-editsection-bracket\">[</span><a href=\"/w/index.php?title=List_of_colleges_and_universities_in_Florida&amp;action=edit&amp;section=3\" title=\"Edit section: Florida College System\">edit</a><span class=\"mw-editsection-bracket\">]</span></span></h3>, <h3><span class=\"mw-headline\" id=\"Other_public_institutions\">Other public institutions</span><span class=\"mw-editsection\"><span class=\"mw-editsection-bracket\">[</span><a href=\"/w/index.php?title=List_of_colleges_and_universities_in_Florida&amp;action=edit&amp;section=4\" title=\"Edit section: Other public institutions\">edit</a><span class=\"mw-editsection-bracket\">]</span></span></h3>, <h3><span id=\"Defunct_public_.28county.29_colleges_in_Florida\"></span><span class=\"mw-headline\" id=\"Defunct_public_(county)_colleges_in_Florida\">Defunct public (county) colleges in Florida</span><span class=\"mw-editsection\"><span class=\"mw-editsection-bracket\">[</span><a href=\"/w/index.php?title=List_of_colleges_and_universities_in_Florida&amp;action=edit&amp;section=5\" title=\"Edit section: Defunct public (county) colleges in Florida\">edit</a><span class=\"mw-editsection-bracket\">]</span></span></h3>, <h3><span class=\"mw-headline\" id=\"Religiously_affiliated_institutions\">Religiously affiliated institutions</span><span class=\"mw-editsection\"><span class=\"mw-editsection-bracket\">[</span><a href=\"/w/index.php?title=List_of_colleges_and_universities_in_Florida&amp;action=edit&amp;section=7\" title=\"Edit section: Religiously affiliated institutions\">edit</a><span class=\"mw-editsection-bracket\">]</span></span></h3>, <h3><span id=\"Trade.2Ftechnical_institutions\"></span><span class=\"mw-headline\" id=\"Trade/technical_institutions\">Trade/technical institutions</span><span class=\"mw-editsection\"><span class=\"mw-editsection-bracket\">[</span><a href=\"/w/index.php?title=List_of_colleges_and_universities_in_Florida&amp;action=edit&amp;section=8\" title=\"Edit section: Trade/technical institutions\">edit</a><span class=\"mw-editsection-bracket\">]</span></span></h3>, <h3><span class=\"mw-headline\" id=\"Other_private_institutions\">Other private institutions</span><span class=\"mw-editsection\"><span class=\"mw-editsection-bracket\">[</span><a href=\"/w/index.php?title=List_of_colleges_and_universities_in_Florida&amp;action=edit&amp;section=9\" title=\"Edit section: Other private institutions\">edit</a><span class=\"mw-editsection-bracket\">]</span></span></h3>, <h3><span class=\"mw-headline\" id=\"Segregated_junior_colleges\"><span id=\"Segregated_junior_colleges\"></span>Segregated junior colleges</span><span class=\"mw-editsection\"><span class=\"mw-editsection-bracket\">[</span><a href=\"/w/index.php?title=List_of_colleges_and_universities_in_Florida&amp;action=edit&amp;section=11\" title=\"Edit section: Segregated junior colleges\">edit</a><span class=\"mw-editsection-bracket\">]</span></span></h3>, <h3 id=\"p-personal-label\">Personal tools</h3>, <h3 id=\"p-namespaces-label\">Namespaces</h3>, <h3 id=\"p-variants-label\">\n",
      "<span>Variants</span>\n",
      "</h3>, <h3 id=\"p-views-label\">Views</h3>, <h3 id=\"p-cactions-label\"><span>More</span></h3>, <h3>\n",
      "<label for=\"searchInput\">Search</label>\n",
      "</h3>, <h3 id=\"p-navigation-label\">Navigation</h3>, <h3 id=\"p-interaction-label\">Interaction</h3>, <h3 id=\"p-tb-label\">Tools</h3>, <h3 id=\"p-coll-print_export-label\">Print/export</h3>, <h3 id=\"p-wikibase-otherprojects-label\">In other projects</h3>, <h3 id=\"p-lang-label\">Languages</h3>]\n"
     ]
    }
   ],
   "source": [
    "print(h3_list)"
   ]
  },
  {
   "cell_type": "markdown",
   "metadata": {},
   "source": [
    "That is all the complete H3 elements. Let's look at just the text of the headings instead."
   ]
  },
  {
   "cell_type": "code",
   "execution_count": 12,
   "metadata": {},
   "outputs": [
    {
     "name": "stdout",
     "output_type": "stream",
     "text": [
      "State University System\n",
      "Florida College System\n",
      "Other public institutions\n",
      "\n",
      "Religiously affiliated institutions\n",
      "\n",
      "Other private institutions\n",
      "Segregated junior colleges\n",
      "Variants\n",
      "More\n"
     ]
    }
   ],
   "source": [
    "for head in h3_list:\n",
    "    if head.span:\n",
    "        print(head.span.get_text())"
   ]
  },
  {
   "cell_type": "markdown",
   "metadata": {},
   "source": [
    "I check the Wikipedia page and discover I am missing \"Trade/technical institutions.\" I use \"Inspect\" again and see that the H3 element is a bit different from the others, so I try another way."
   ]
  },
  {
   "cell_type": "code",
   "execution_count": 13,
   "metadata": {},
   "outputs": [
    {
     "name": "stdout",
     "output_type": "stream",
     "text": [
      "State University System\n",
      "Florida College System\n",
      "Other public institutions\n",
      "Defunct public (county) colleges in Florida\n",
      "Religiously affiliated institutions\n",
      "Trade/technical institutions\n",
      "Other private institutions\n",
      "Segregated junior colleges\n"
     ]
    }
   ],
   "source": [
    "for head in h3_list:\n",
    "    if head.find( 'span', {'class':'mw-headline'} ):\n",
    "        print( head.find( 'span', {'class':'mw-headline'} ).get_text() )\n"
   ]
  },
  {
   "cell_type": "markdown",
   "metadata": {},
   "source": [
    "The BeautifulSoup pattern `object.find( 'element', {'class':'classname'} )` is very, very common and very, very useful. \n",
    "\n",
    "`.find()` brings you only the first of the class, even if there are others on the page. \n",
    "\n",
    "`.find_all()` brings you a Python list of ALL the elements of that kind on the page that have that class.\n",
    "\n",
    "`.get_text()` strips the text only out of the element and gives it to you.\n",
    "\n",
    "When I examined the Wikipedia HTML carefully with \"Inspect,\" I realized that all the headings are inside a `span` tag that has `class=\"mw-headline` - *so that is what I used* to get the printed H3 headlines I want.\n",
    "\n",
    "Use Command-f (or Control-f on Windows) on the [BeautifulSoup documentation page](https://www.crummy.com/software/BeautifulSoup/bs4/doc/) to discover these tricks."
   ]
  },
  {
   "cell_type": "code",
   "execution_count": 14,
   "metadata": {},
   "outputs": [],
   "source": [
    "# copy/paste that nice text to create a new list \n",
    "# we will use this list of headings to grab all the schools we want \n",
    "\n",
    "headings = [\n",
    "    'State University System',\n",
    "    'Florida College System',\n",
    "    'Other public institutions',\n",
    "    'Religiously affiliated institutions',\n",
    "    'Trade/technical institutions',\n",
    "    'Other private institutions'\n",
    "]\n",
    "\n",
    "# I removed 'Defunct public (county) colleges in Florida' and \n",
    "#'Segregated junior colleges' because those are all closed "
   ]
  },
  {
   "cell_type": "markdown",
   "metadata": {},
   "source": [
    "I've checked the list carefully against the Wikipedia page. Every **list of schools** that I want to add to my CSV comes under one of those headings. I will use the headings the same way I used 'State University System' alone, earlier, to get ONE list of schools.\n",
    "\n",
    "I will use the `h3_list` as I did before - but now I will ALSO use this new `headings` list."
   ]
  },
  {
   "cell_type": "code",
   "execution_count": 15,
   "metadata": {},
   "outputs": [
    {
     "name": "stdout",
     "output_type": "stream",
     "text": [
      "Florida A&M University (Tallahassee)\n",
      "Broward College (Davie)\n",
      "George Stone Technical Center (Pensacola)\n",
      "Adventist University of Health Sciences (Orlando)\n",
      "Acupuncture and Massage College (Miami)\n",
      "By state and in insular areas\n"
     ]
    }
   ],
   "source": [
    "for item in headings:\n",
    "    the_ul = \"\"\n",
    "    for head in h3_list:\n",
    "        text = head.find( 'span', {'class':'mw-headline'} ).get_text()\n",
    "        if text == item:\n",
    "            the_ul = head.find_next('ul')\n",
    "            break\n",
    "    # only the first LI in the UL \n",
    "    print( the_ul.li.get_text() )"
   ]
  },
  {
   "cell_type": "markdown",
   "metadata": {},
   "source": [
    "I printed only the text in the first LI in each list to test my code, and I have a problem. \"By state and in insular areas\" is not a school. Back on the Wikipedia page, I inspet again, and I find that the heading \"Other private institutions\" is followed (in the HTML) by a table, and *inside the table* there is a UL I do not want.\n",
    "\n",
    "This is a typical scraping problem, and we can solve it."
   ]
  },
  {
   "cell_type": "code",
   "execution_count": 16,
   "metadata": {},
   "outputs": [
    {
     "name": "stdout",
     "output_type": "stream",
     "text": [
      "Florida A&M University (Tallahassee)\n",
      "Broward College (Davie)\n",
      "George Stone Technical Center (Pensacola)\n",
      "Adventist University of Health Sciences (Orlando)\n",
      "Acupuncture and Massage College (Miami)\n",
      "Argosy University (Tampa)\n"
     ]
    }
   ],
   "source": [
    "for item in headings:\n",
    "    the_ul = \"\"\n",
    "    for head in h3_list:\n",
    "        text = head.find( 'span', {'class':'mw-headline'} ).get_text()\n",
    "        if text == item:\n",
    "            the_ul = head.find_next('ul')\n",
    "            # eliminate the ULs inside the table\n",
    "            if the_ul.parent.name == 'td':\n",
    "                the_ul = head.find_next('ul').find_next('ul').find_next('ul')\n",
    "            break\n",
    "    print( the_ul.li.get_text() )"
   ]
  },
  {
   "cell_type": "markdown",
   "metadata": {},
   "source": [
    "It's a clunky solution, but it works - as shown by the line \"Argosy University (Tampa),\" which is the first LI in that last list we want to grab. By the way, the trick with  `the_ul.parent.name` is something else I found on the [BeautifulSoup documentation page](https://www.crummy.com/software/BeautifulSoup/bs4/doc/).\n",
    "\n",
    "`head.find_next('ul').find_next('ul').find_next('ul')` means not the first, not the second, get the third.\n",
    "\n",
    "Since we now know we can get all the LI elements, let's try to add in the code that gets the location and the URL too."
   ]
  },
  {
   "cell_type": "code",
   "execution_count": 17,
   "metadata": {},
   "outputs": [
    {
     "name": "stdout",
     "output_type": "stream",
     "text": [
      "Florida A&M University Tallahassee https://en.wikipedia.org/wiki/Florida_A%26M_University State University System\n",
      "Florida Atlantic University Boca Raton https://en.wikipedia.org/wiki/Florida_Atlantic_University State University System\n",
      "Florida Gulf Coast University Fort Myers https://en.wikipedia.org/wiki/Florida_Gulf_Coast_University State University System\n",
      "Florida International University Miami https://en.wikipedia.org/wiki/Florida_International_University State University System\n",
      "Florida Polytechnic University Lakeland https://en.wikipedia.org/wiki/Florida_Polytechnic_University State University System\n",
      "Florida State University Tallahassee https://en.wikipedia.org/wiki/Florida_State_University State University System\n",
      "New College of Florida Sarasota https://en.wikipedia.org/wiki/New_College_of_Florida State University System\n",
      "University of Central Florida Orlando https://en.wikipedia.org/wiki/University_of_Central_Florida State University System\n",
      "University of Florida Gainesville https://en.wikipedia.org/wiki/University_of_Florida State University System\n",
      "University of North Florida Jacksonville https://en.wikipedia.org/wiki/University_of_North_Florida State University System\n",
      "University of South Florida Tampa https://en.wikipedia.org/wiki/University_of_South_Florida State University System\n",
      "University of West Florida Pensacola https://en.wikipedia.org/wiki/University_of_West_Florida State University System\n",
      "Broward College Davie https://en.wikipedia.org/wiki/Broward_College Florida College System\n",
      "Chipola College Marianna https://en.wikipedia.org/wiki/Chipola_College Florida College System\n",
      "College of Central Florida Ocala https://en.wikipedia.org/wiki/College_of_Central_Florida Florida College System\n",
      "Daytona State College Daytona Beach https://en.wikipedia.org/wiki/Daytona_State_College Florida College System\n",
      "Eastern Florida State College Cocoa https://en.wikipedia.org/wiki/Eastern_Florida_State_College Florida College System\n",
      "Florida Gateway College Lake City https://en.wikipedia.org/wiki/Florida_Gateway_College Florida College System\n",
      "Florida Keys Community College Key West https://en.wikipedia.org/wiki/Florida_Keys_Community_College Florida College System\n",
      "Florida SouthWestern State College Fort Myers https://en.wikipedia.org/wiki/Florida_SouthWestern_State_College Florida College System\n",
      "Florida State College at Jacksonville Jacksonville https://en.wikipedia.org/wiki/Florida_State_College_at_Jacksonville Florida College System\n",
      "Gulf Coast State College Panama City https://en.wikipedia.org/wiki/Gulf_Coast_State_College Florida College System\n",
      "Hillsborough Community College Tampa https://en.wikipedia.org/wiki/Hillsborough_Community_College Florida College System\n",
      "Indian River State College Fort Pierce https://en.wikipedia.org/wiki/Indian_River_State_College Florida College System\n",
      "Lake–Sumter State College Leesburg https://en.wikipedia.org/wiki/Lake%E2%80%93Sumter_State_College Florida College System\n",
      "Miami Dade College Miami https://en.wikipedia.org/wiki/Miami_Dade_College Florida College System\n",
      "North Florida Community College Madison https://en.wikipedia.org/wiki/North_Florida_Community_College Florida College System\n",
      "Northwest Florida State College Niceville https://en.wikipedia.org/wiki/Northwest_Florida_State_College Florida College System\n",
      "Palm Beach State College Lake Worth https://en.wikipedia.org/wiki/Palm_Beach_State_College Florida College System\n",
      "Pasco–Hernando State College New Port Richey https://en.wikipedia.org/wiki/Pasco%E2%80%93Hernando_State_College Florida College System\n",
      "Pensacola State College Pensacola https://en.wikipedia.org/wiki/Pensacola_State_College Florida College System\n",
      "Polk State College Winter Haven https://en.wikipedia.org/wiki/Polk_State_College Florida College System\n",
      "Santa Fe College Gainesville https://en.wikipedia.org/wiki/Santa_Fe_College Florida College System\n",
      "Seminole State College of Florida Sanford https://en.wikipedia.org/wiki/Seminole_State_College_of_Florida Florida College System\n",
      "South Florida State College Avon Park https://en.wikipedia.org/wiki/South_Florida_State_College Florida College System\n",
      "St. Johns River State College Palatka https://en.wikipedia.org/wiki/St._Johns_River_State_College Florida College System\n",
      "St. Petersburg College St. Petersburg https://en.wikipedia.org/wiki/St._Petersburg_College Florida College System\n",
      "State College of Florida, Manatee–Sarasota Bradenton https://en.wikipedia.org/wiki/State_College_of_Florida,_Manatee%E2%80%93Sarasota Florida College System\n",
      "Tallahassee Community College Tallahassee https://en.wikipedia.org/wiki/Tallahassee_Community_College Florida College System\n",
      "Valencia College Orlando https://en.wikipedia.org/wiki/Valencia_College Florida College System\n",
      "George Stone Technical Center Pensacola https://en.wikipedia.org/wiki/George_Stone_Technical_Center Other public institutions\n",
      "Adventist University of Health Sciences Orlando https://en.wikipedia.org/wiki/Adventist_University_of_Health_Sciences Religiously affiliated institutions\n",
      "Ave Maria University Ave Maria https://en.wikipedia.org/wiki/Ave_Maria_University Religiously affiliated institutions\n",
      "Baptist College of Florida Graceville https://en.wikipedia.org/wiki/Baptist_College_of_Florida Religiously affiliated institutions\n",
      "Barry University Miami Shores https://en.wikipedia.org/wiki/Barry_University Religiously affiliated institutions\n",
      "Bethune–Cookman University Daytona Beach https://en.wikipedia.org/wiki/Bethune%E2%80%93Cookman_University Religiously affiliated institutions\n",
      "Eckerd College St. Petersburg https://en.wikipedia.org/wiki/Eckerd_College Religiously affiliated institutions\n",
      "Edward Waters College Jacksonville, Florida https://en.wikipedia.org/wiki/Edward_Waters_College Religiously affiliated institutions\n",
      "Florida College Temple Terrace https://en.wikipedia.org/wiki/Florida_College Religiously affiliated institutions\n",
      "Florida Memorial University Miami Gardens https://en.wikipedia.org/wiki/Florida_Memorial_University Religiously affiliated institutions\n",
      "Florida Southern College Lakeland https://en.wikipedia.org/wiki/Florida_Southern_College Religiously affiliated institutions\n",
      "University of Fort Lauderdale Fort Lauderdale https://en.wikipedia.org/w/index.php?title=University_of_Fort_Lauderdale&action=edit&redlink=1 Religiously affiliated institutions\n",
      "Gordon–Conwell Theological Seminary Jacksonville https://en.wikipedia.org/wiki/Gordon%E2%80%93Conwell_Theological_Seminary Religiously affiliated institutions\n",
      "Hobe Sound Bible College Hobe Sound https://en.wikipedia.org/wiki/Hobe_Sound_Bible_College Religiously affiliated institutions\n",
      "Palm Beach Atlantic University West Palm Beach https://en.wikipedia.org/wiki/Palm_Beach_Atlantic_University Religiously affiliated institutions\n",
      "Pensacola Christian College Pensacola https://en.wikipedia.org/wiki/Pensacola_Christian_College Religiously affiliated institutions\n",
      "Reformed Theological Seminary Orlando https://en.wikipedia.org/wiki/Reformed_Theological_Seminary Religiously affiliated institutions\n",
      "Saint Leo University St. Leo https://en.wikipedia.org/wiki/Saint_Leo_University Religiously affiliated institutions\n",
      "St. John Vianney College Seminary Miami https://en.wikipedia.org/wiki/St._John_Vianney_College_Seminary Religiously affiliated institutions\n",
      "St. Thomas University Miami Gardens https://en.wikipedia.org/wiki/St._Thomas_University_(Florida) Religiously affiliated institutions\n",
      "South Florida Bible College & Theological Seminary Deerfield Beach https://en.wikipedia.org/wiki/South_Florida_Bible_College_%26_Theological_Seminary Religiously affiliated institutions\n",
      "Southeastern University Lakeland https://en.wikipedia.org/wiki/Southeastern_University_(Florida) Religiously affiliated institutions\n",
      "Trinity Baptist College Jacksonville https://en.wikipedia.org/wiki/Trinity_Baptist_College Religiously affiliated institutions\n",
      "Trinity College New Port Richey https://en.wikipedia.org/wiki/Trinity_College_(Florida) Religiously affiliated institutions\n",
      "Warner University Lake Wales https://en.wikipedia.org/wiki/Warner_University Religiously affiliated institutions\n",
      "Yeshiva V'Kollel Beis Moshe Chaim Miami Beach https://en.wikipedia.org/wiki/Yeshiva_V%27Kollel_Beis_Moshe_Chaim Religiously affiliated institutions\n",
      "Acupuncture and Massage College Miami https://en.wikipedia.org/w/index.php?title=Acupuncture_and_Massage_College&action=edit&redlink=1 Trade/technical institutions\n",
      "AdventHealth University Orlando https://en.wikipedia.org/wiki/AdventHealth_University Trade/technical institutions\n",
      "Aerosim Flight Academy Sanford https://en.wikipedia.org/wiki/Aerosim_Flight_Academy Trade/technical institutions\n",
      "American College for Medical Careers Orlando https://en.wikipedia.org/w/index.php?title=American_College_for_Medical_Careers&action=edit&redlink=1 Trade/technical institutions\n",
      "Atlantic Institute of Oriental Medicine Fort Lauderdale https://en.wikipedia.org/w/index.php?title=Atlantic_Institute_of_Oriental_Medicine&action=edit&redlink=1 Trade/technical institutions\n",
      "City College Fort Lauderdale https://en.wikipedia.org/wiki/City_College_(Florida) Trade/technical institutions\n",
      "College of Business and Technology Miami https://en.wikipedia.org/wiki/College_of_Business_and_Technology Trade/technical institutions\n",
      "Digital Media Arts College Boca Raton https://en.wikipedia.org/wiki/Digital_Media_Arts_College Trade/technical institutions\n",
      "Dragon Rises College of Oriental Medicine Gainesville https://en.wikipedia.org/w/index.php?title=Dragon_Rises_College_of_Oriental_Medicine&action=edit&redlink=1 Trade/technical institutions\n",
      "East West College of Natural Medicine Sarasota https://en.wikipedia.org/wiki/East_West_College_of_Natural_Medicine Trade/technical institutions\n",
      "Everest University Pompano Beach https://en.wikipedia.org/wiki/Everest_University Trade/technical institutions\n",
      "Everglades University Boca Raton https://en.wikipedia.org/wiki/Everglades_University Trade/technical institutions\n",
      "Florida Career College Miami https://en.wikipedia.org/wiki/Florida_Career_College Trade/technical institutions\n",
      "Florida College of Integrative Medicine Orlando https://en.wikipedia.org/w/index.php?title=Florida_College_of_Integrative_Medicine&action=edit&redlink=1 Trade/technical institutions\n",
      "Florida Technical College Cutler Bay https://en.wikipedia.org/wiki/Florida_Technical_College Trade/technical institutions\n",
      "Full Sail University Winter Park https://en.wikipedia.org/wiki/Full_Sail_University Trade/technical institutions\n",
      "Jersey College Tampa https://en.wikipedia.org/wiki/Jersey_College Trade/technical institutions\n",
      "Jose Maria Vargas University Pembroke Pines https://en.wikipedia.org/w/index.php?title=Jose_Maria_Vargas_University&action=edit&redlink=1 Trade/technical institutions\n",
      "Miami International University of Art & Design Miami https://en.wikipedia.org/wiki/Miami_International_University_of_Art_%26_Design Trade/technical institutions\n",
      "Orlando Culinary Academy Orlando https://en.wikipedia.org/wiki/Orlando_Culinary_Academy Trade/technical institutions\n",
      "Remington College Tampa https://en.wikipedia.org/wiki/Remington_College Trade/technical institutions\n",
      "Ringling College of Art and Design Sarasota https://en.wikipedia.org/wiki/Ringling_College_of_Art_and_Design Trade/technical institutions\n",
      "Southern Technical College Orlando https://en.wikipedia.org/wiki/Southern_Technical_College Trade/technical institutions\n",
      "Argosy University Tampa https://en.wikipedia.org/wiki/Argosy_University Other private institutions\n",
      "Atlantis University Miami-Dade County https://en.wikipedia.org/wiki/Atlantis_University Other private institutions\n",
      "Beacon College Leesburg https://en.wikipedia.org/wiki/Beacon_College Other private institutions\n",
      "Carlos Albizu University Miami https://en.wikipedia.org/wiki/Carlos_Albizu_University Other private institutions\n",
      "Columbia College Jacksonville https://en.wikipedia.org/wiki/Columbia_College_(Missouri) Other private institutions\n",
      "DeVry University Orlando https://en.wikipedia.org/wiki/DeVry_University Other private institutions\n",
      "Embry–Riddle Aeronautical University Daytona Beach https://en.wikipedia.org/wiki/Embry%E2%80%93Riddle_Aeronautical_University Other private institutions\n",
      "Flagler College St. Augustine https://en.wikipedia.org/wiki/Flagler_College Other private institutions\n",
      "Florida Institute of Technology Melbourne https://en.wikipedia.org/wiki/Florida_Institute_of_Technology Other private institutions\n",
      "Florida National University Hialeah https://en.wikipedia.org/wiki/Florida_National_University Other private institutions\n",
      "Herzing University Orlando https://en.wikipedia.org/wiki/Herzing_University Other private institutions\n",
      "Hodges University Naples https://en.wikipedia.org/wiki/Hodges_University Other private institutions\n",
      "Jacksonville University Jacksonville https://en.wikipedia.org/wiki/Jacksonville_University Other private institutions\n",
      "Johnson & Wales University North Miami https://en.wikipedia.org/wiki/Johnson_%26_Wales_University Other private institutions\n",
      "Keiser University Fort Lauderdale https://en.wikipedia.org/wiki/Keiser_University Other private institutions\n",
      "Lake Erie College of Osteopathic Medicine Bradenton https://en.wikipedia.org/wiki/Lake_Erie_College_of_Osteopathic_Medicine Other private institutions\n",
      "Lynn University Boca Raton https://en.wikipedia.org/wiki/Lynn_University Other private institutions\n",
      "Keiser University West Palm Beach https://en.wikipedia.org/wiki/Keiser_University Other private institutions\n",
      "Millennia Atlantic University Doral https://en.wikipedia.org/w/index.php?title=Millennia_Atlantic_University&action=edit&redlink=1 Other private institutions\n",
      "Miami International University of Art & Design Miami https://en.wikipedia.org/wiki/Miami_International_University_of_Art_%26_Design Other private institutions\n",
      "Miami Regional College Miami Springs https://en.wikipedia.org/wiki/Miami_Regional_College Other private institutions\n",
      "National Louis University Tampa https://en.wikipedia.org/wiki/National_Louis_University Other private institutions\n",
      "National University of Medical Sciences Naples https://en.wikipedia.org/w/index.php?title=National_University_of_Medical_Sciences_(United_States)&action=edit&redlink=1 Other private institutions\n",
      "Nova Southeastern University Davie https://en.wikipedia.org/wiki/Nova_Southeastern_University Other private institutions\n",
      "Okan International University Dania Beach https://en.wikipedia.org/wiki/Okan_International_University Other private institutions\n",
      "Rasmussen College Ocala https://en.wikipedia.org/wiki/Rasmussen_College Other private institutions\n",
      "Rollins College Winter Park https://en.wikipedia.org/wiki/Rollins_College Other private institutions\n",
      "San Ignacio University Miami https://en.wikipedia.org/w/index.php?title=San_Ignacio_University&action=edit&redlink=1 Other private institutions\n",
      "Schiller International University Largo https://en.wikipedia.org/wiki/Schiller_International_University Other private institutions\n",
      "Southern Technical College Orlando https://en.wikipedia.org/wiki/Southern_Technical_College Other private institutions\n",
      "Springfield College Tampa https://en.wikipedia.org/wiki/Springfield_College_(Massachusetts) Other private institutions\n",
      "Stetson University DeLand https://en.wikipedia.org/wiki/Stetson_University Other private institutions\n",
      "University of Miami Coral Gables https://en.wikipedia.org/wiki/University_of_Miami Other private institutions\n",
      "University of Phoenix Orlando https://en.wikipedia.org/wiki/University_of_Phoenix Other private institutions\n",
      "University of Tampa Tampa https://en.wikipedia.org/wiki/University_of_Tampa Other private institutions\n",
      "Webber International University Babson Park https://en.wikipedia.org/wiki/Webber_International_University Other private institutions\n",
      "Webster University Ocala https://en.wikipedia.org/wiki/Webster_University Other private institutions\n"
     ]
    },
    {
     "name": "stdout",
     "output_type": "stream",
     "text": [
      "Western Michigan University Cooley Law School Tampa https://en.wikipedia.org/wiki/Western_Michigan_University_Cooley_Law_School Other private institutions\n"
     ]
    }
   ],
   "source": [
    "for item in headings:\n",
    "    the_ul = \"\"\n",
    "    for head in h3_list:\n",
    "        text = head.find( 'span', {'class':'mw-headline'} ).get_text()\n",
    "        if text == item:\n",
    "            the_ul = head.find_next('ul')\n",
    "            # eliminate the ULs inside the table\n",
    "            if the_ul.parent.name == 'td':\n",
    "                the_ul = head.find_next('ul').find_next('ul').find_next('ul')\n",
    "            break\n",
    "    # print( the_ul.li.get_text() )\n",
    "    \n",
    "    schools = the_ul.find_all('li')\n",
    "\n",
    "    for li in schools:\n",
    "        a_list = li.find_all('a')\n",
    "        college_name = a_list[0].get_text()\n",
    "        location = a_list[1].get_text()\n",
    "        url = 'https://en.wikipedia.org' + a_list[0]['href']\n",
    "        print(college_name, location, url, item)\n"
   ]
  },
  {
   "cell_type": "markdown",
   "metadata": {},
   "source": [
    "That looks pretty good, so let's insert that whole chunk of code *into* the CSV-writing code and give it a try."
   ]
  },
  {
   "cell_type": "code",
   "execution_count": 18,
   "metadata": {},
   "outputs": [],
   "source": [
    "# create/open new file for writing -\n",
    "csvfile = open(\"florida_colleges.csv\", 'w', newline='', encoding='utf-8')\n",
    "\n",
    "# make a new variable, c, for Python's CSV writer object -\n",
    "c = csv.writer(csvfile)\n",
    "\n",
    "# write header row to test.csv\n",
    "c.writerow( ['school', 'location', 'url', 'type'] )\n",
    "\n",
    "# write all the schools into rows\n",
    "for item in headings:\n",
    "    the_ul = \"\"\n",
    "    for head in h3_list:\n",
    "        text = head.find( 'span', {'class':'mw-headline'} ).get_text()\n",
    "        if text == item:\n",
    "            the_ul = head.find_next('ul')\n",
    "            # eliminate the ULs inside the table\n",
    "            if the_ul.parent.name == 'td':\n",
    "                the_ul = head.find_next('ul').find_next('ul').find_next('ul')\n",
    "            break\n",
    "    \n",
    "    schools = the_ul.find_all('li')\n",
    "\n",
    "    for li in schools:\n",
    "        a_list = li.find_all('a')\n",
    "        college_name = a_list[0].get_text()\n",
    "        location = a_list[1].get_text()\n",
    "        url = 'https://en.wikipedia.org' + a_list[0]['href']\n",
    "        \n",
    "        c.writerow( [college_name, location, url, item] )\n",
    "\n",
    "\n",
    "# close and save the file\n",
    "csvfile.close()\n"
   ]
  },
  {
   "cell_type": "markdown",
   "metadata": {},
   "source": [
    "And it works! You have a clean CSV with 120+ schools, and you could use it to make a map, a database, a mailing list (that would require more scraping on other pages), etc. You can sort the schools alphabetically or by location and still know which type of schools they are because of the \"type\" column. Some schools might not be real (it is Wikipedia, after all), so some more human intelligence would need to be applied to the CSV before it could be used with confidence.\n",
    "\n",
    "**Note** that *only the code in the final cell* (plus all the `import` statements from higher up) is needed to make this CSV. All the cells above that were testing and working to get to this point."
   ]
  },
  {
   "cell_type": "code",
   "execution_count": null,
   "metadata": {},
   "outputs": [],
   "source": []
  }
 ],
 "metadata": {
  "kernelspec": {
   "display_name": "Python 3",
   "language": "python",
   "name": "python3"
  },
  "language_info": {
   "codemirror_mode": {
    "name": "ipython",
    "version": 3
   },
   "file_extension": ".py",
   "mimetype": "text/x-python",
   "name": "python",
   "nbconvert_exporter": "python",
   "pygments_lexer": "ipython3",
   "version": "3.7.3"
  }
 },
 "nbformat": 4,
 "nbformat_minor": 2
}
